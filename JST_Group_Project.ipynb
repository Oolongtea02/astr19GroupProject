{
 "cells": [
  {
   "cell_type": "markdown",
   "id": "2602ea76",
   "metadata": {},
   "source": [
    "# TEST"
   ]
  },
  {
   "cell_type": "code",
   "execution_count": null,
   "id": "80791883",
   "metadata": {
    "scrolled": true
   },
   "outputs": [],
   "source": [
    "import numpy as np\n",
    "import matplotlib.pyplot as plt\n",
    "from scipy import optimize\n",
    "%matplotlib inline\n",
    "\n",
    "data = np.loadtxt(\"ASTR19_F23_group_project_data.txt\", dtype=float,usecols=(0,2))\n",
    "\n",
    "time_offsets = np.loadtxt(\"ASTR19_F23_group_project_data.txt\", dtype=str,usecols=(1))\n",
    "\n",
    "temp = []\n",
    "for t in time_offsets:\n",
    "    temp.append(float(t.split(':')[0] + \".\" +  t.split(':')[1]))\n",
    "    \n",
    "x = np.array(temp)\n",
    "y = data[:, 1]\n",
    "\n",
    "sorted_xy = sorted(zip(x, y))\n",
    "x, y = zip(*sorted_xy)\n",
    "\n",
    "x = np.array(x)\n",
    "y = np.array(y)\n",
    "\n",
    "plt.scatter(x,y)\n",
    "\n",
    "# Find Best fit model\n",
    "def func(x, a, b, c, d, e, f,q,w):\n",
    "     return ((a * np.exp(-x / b) + f) * (np.sin(c * x + d) + e) / q) + w\n",
    "\n",
    "params, params_cov = optimize.curve_fit(func,x,y, maxfev=10000)\n",
    "\n",
    "print(params)\n",
    "\n",
    "\n",
    "# Plot data and best fit model together\n",
    "\n",
    "plt.figure(figsize=(7, 7))\n",
    "plt.xlabel('Time (hour 0 to 24)')\n",
    "plt.ylabel('Tide Height in feet')\n",
    "plt.plot(x,func(x, *params),color='magenta',label='Best-Fit Model')\n",
    "plt.scatter(x,y)\n",
    "\n",
    "plt.legend(frameon=False,fontsize=20,handletextpad=0)\n",
    "plt.show()"
   ]
  },
  {
   "cell_type": "code",
   "execution_count": null,
   "id": "6d2f5754",
   "metadata": {},
   "outputs": [],
   "source": [
    "# Subtract the best-fit model from the data to get residuals\n",
    "residuals = y - func(x, *params)\n",
    "\n",
    "# Plot the residuals\n",
    "plt.figure(figsize=(10, 6))\n",
    "plt.scatter(x, residuals)\n",
    "plt.axhline(y=0, color='r', linestyle='--')\n",
    "plt.xlabel('Tides')\n",
    "plt.ylabel('Residuals')\n",
    "plt.title('Residuals Plot')\n",
    "plt.show()\n",
    "\n",
    "# Calculate the standard deviation of the residuals\n",
    "std_deviation = np.std(residuals)\n",
    "print(f'Standard Deviation of Residuals: {std_deviation}')\n",
    "\n",
    "# Plot a histogram of the residuals\n",
    "plt.figure(figsize=(10, 6))\n",
    "plt.hist(residuals, bins='auto', alpha=0.7, rwidth=0.85)\n",
    "plt.xlabel('Residuals')\n",
    "plt.ylabel('Frequency')\n",
    "plt.title('Histogram of Residuals')\n",
    "plt.grid(axis='y', alpha=0.75)\n",
    "plt.savefig('residuals_histogram.pdf')\n",
    "plt.show()"
   ]
  }
 ],
 "metadata": {
  "kernelspec": {
   "display_name": "Python 3 (ipykernel)",
   "language": "python",
   "name": "python3"
  },
  "language_info": {
   "codemirror_mode": {
    "name": "ipython",
    "version": 3
   },
   "file_extension": ".py",
   "mimetype": "text/x-python",
   "name": "python",
   "nbconvert_exporter": "python",
   "pygments_lexer": "ipython3",
   "version": "3.11.3"
  }
 },
 "nbformat": 4,
 "nbformat_minor": 5
}
